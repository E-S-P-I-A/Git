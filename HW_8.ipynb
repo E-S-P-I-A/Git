{
  "nbformat": 4,
  "nbformat_minor": 0,
  "metadata": {
    "colab": {
      "provenance": [],
      "authorship_tag": "ABX9TyNmTnbmuxPeuub9fLtDk5LP",
      "include_colab_link": true
    },
    "kernelspec": {
      "name": "python3",
      "display_name": "Python 3"
    },
    "language_info": {
      "name": "python"
    }
  },
  "cells": [
    {
      "cell_type": "markdown",
      "metadata": {
        "id": "view-in-github",
        "colab_type": "text"
      },
      "source": [
        "<a href=\"https://colab.research.google.com/github/E-S-P-I-A/Git/blob/main/HW_8.ipynb\" target=\"_parent\"><img src=\"https://colab.research.google.com/assets/colab-badge.svg\" alt=\"Open In Colab\"/></a>"
      ]
    },
    {
      "cell_type": "code",
      "execution_count": 1,
      "metadata": {
        "colab": {
          "base_uri": "https://localhost:8080/"
        },
        "id": "NHtJ06Ye5Gvj",
        "outputId": "d73e1bc2-8cdf-473a-8b5f-8dcf873b382c"
      },
      "outputs": [
        {
          "output_type": "stream",
          "name": "stdout",
          "text": [
            "Post ID: 1\n",
            "Title: sunt aut facere repellat provident occaecati excepturi optio reprehenderit\n",
            "Body: quia et suscipit\n",
            "suscipit recusandae consequuntur expedita et cum\n",
            "reprehenderit molestiae ut ut quas totam\n",
            "nostrum rerum est autem sunt rem eveniet architecto\n",
            "---\n",
            "Post ID: 2\n",
            "Title: qui est esse\n",
            "Body: est rerum tempore vitae\n",
            "sequi sint nihil reprehenderit dolor beatae ea dolores neque\n",
            "fugiat blanditiis voluptate porro vel nihil molestiae ut reiciendis\n",
            "qui aperiam non debitis possimus qui neque nisi nulla\n",
            "---\n",
            "Post ID: 3\n",
            "Title: ea molestias quasi exercitationem repellat qui ipsa sit aut\n",
            "Body: et iusto sed quo iure\n",
            "voluptatem occaecati omnis eligendi aut ad\n",
            "voluptatem doloribus vel accusantium quis pariatur\n",
            "molestiae porro eius odio et labore et velit aut\n",
            "---\n",
            "Post ID: 4\n",
            "Title: eum et est occaecati\n",
            "Body: ullam et saepe reiciendis voluptatem adipisci\n",
            "sit amet autem assumenda provident rerum culpa\n",
            "quis hic commodi nesciunt rem tenetur doloremque ipsam iure\n",
            "quis sunt voluptatem rerum illo velit\n",
            "---\n",
            "Post ID: 5\n",
            "Title: nesciunt quas odio\n",
            "Body: repudiandae veniam quaerat sunt sed\n",
            "alias aut fugiat sit autem sed est\n",
            "voluptatem omnis possimus esse voluptatibus quis\n",
            "est aut tenetur dolor neque\n",
            "---\n"
          ]
        }
      ],
      "source": [
        "import requests\n",
        "\n",
        "# URL для получения постов\n",
        "url = 'https://jsonplaceholder.typicode.com/posts'\n",
        "\n",
        "# Функция для отправки GET-запроса и обработки ответа\n",
        "def fetch_posts():\n",
        "    try:\n",
        "        # Отправляем GET-запрос\n",
        "        response = requests.get(url)\n",
        "\n",
        "        # Проверяем статус ответа\n",
        "        response.raise_for_status()\n",
        "\n",
        "        # Извлекаем данные из ответа\n",
        "        posts = response.json()\n",
        "\n",
        "        # Выводим заголовки и тела первых 5 постов\n",
        "        for i in range(min(5, len(posts))):\n",
        "            post = posts[i]\n",
        "            print(f\"Post ID: {post['id']}\")\n",
        "            print(f\"Title: {post['title']}\")\n",
        "            print(f\"Body: {post['body']}\")\n",
        "            print('---')\n",
        "    except requests.exceptions.RequestException as error:\n",
        "        print(f\"Ошибка при запросе: {error}\")\n",
        "\n",
        "# Вызываем функцию для получения и вывода постов\n",
        "fetch_posts()\n"
      ]
    },
    {
      "cell_type": "code",
      "source": [
        "import requests\n",
        "\n",
        "def get_weather(city, api_key):\n",
        "    # URL для получения текущей погоды\n",
        "    base_url = \"http://api.openweathermap.org/data/2.5/weather\"\n",
        "\n",
        "    # Параметры запроса\n",
        "    params = {\n",
        "        \"q\": city,\n",
        "        \"appid\": api_key,\n",
        "        \"units\": \"metric\",  # Используем метрические единицы для температуры\n",
        "        \"lang\": \"ru\"  # Используем русский язык для описания погоды\n",
        "    }\n",
        "\n",
        "    try:\n",
        "        # Отправляем GET-запрос\n",
        "        response = requests.get(base_url, params=params)\n",
        "\n",
        "        # Проверяем статус ответа\n",
        "        response.raise_for_status()\n",
        "\n",
        "        # Извлекаем данные из ответа\n",
        "        weather_data = response.json()\n",
        "\n",
        "        # Выводим текущую температуру и описание погоды\n",
        "        print(f\"Текущая температура в {weather_data['name']}: {weather_data['main']['temp']}°C\")\n",
        "        print(f\"Описание погоды: {weather_data['weather'][0]['description']}\")\n",
        "    except requests.exceptions.RequestException as error:\n",
        "        print(f\"Ошибка при запросе: {error}\")\n",
        "\n",
        "def main():\n",
        "    api_key = input(\"Введите ваш ключ API OpenWeatherMap: \")\n",
        "    city = input(\"Введите название города: \")\n",
        "\n",
        "    get_weather(city, api_key)\n",
        "\n",
        "if __name__ == \"__main__\":\n",
        "    main()\n"
      ],
      "metadata": {
        "colab": {
          "base_uri": "https://localhost:8080/"
        },
        "id": "ZdtPuPeN5Xjc",
        "outputId": "fbe8d194-6666-47b2-fd73-062b5493674d"
      },
      "execution_count": 2,
      "outputs": [
        {
          "output_type": "stream",
          "name": "stdout",
          "text": [
            "Введите ваш ключ API OpenWeatherMap: Erevan\n",
            "Введите название города: Erevan\n",
            "Ошибка при запросе: 401 Client Error: Unauthorized for url: http://api.openweathermap.org/data/2.5/weather?q=Erevan&appid=Erevan&units=metric&lang=ru\n"
          ]
        }
      ]
    }
  ]
}