{
  "nbformat": 4,
  "nbformat_minor": 0,
  "metadata": {
    "colab": {
      "provenance": [],
      "authorship_tag": "ABX9TyPtxWlbBTx/mKKcKY0qCu2S",
      "include_colab_link": true
    },
    "kernelspec": {
      "name": "python3",
      "display_name": "Python 3"
    },
    "language_info": {
      "name": "python"
    }
  },
  "cells": [
    {
      "cell_type": "markdown",
      "metadata": {
        "id": "view-in-github",
        "colab_type": "text"
      },
      "source": [
        "<a href=\"https://colab.research.google.com/github/E-S-P-I-A/Git/blob/main/HW_3.ipynb\" target=\"_parent\"><img src=\"https://colab.research.google.com/assets/colab-badge.svg\" alt=\"Open In Colab\"/></a>"
      ]
    },
    {
      "cell_type": "code",
      "source": [
        "def sum_distance(from_, to):\n",
        "    # Меняем значения местами, если первое больше второго\n",
        "    if from_ > to:\n",
        "        from_, to = to, from_\n",
        "\n",
        "    # Вычисляем сумму чисел от from_ до to включительно\n",
        "    return sum(range(from_, to + 1))\n",
        "\n",
        "    # Пример использования\n",
        "print(sum_distance(5, 10))   # Вывод: 45\n",
        "print(sum_distance(15, 8))   # Вывод: 120 (порядок будет изменен)"
      ],
      "metadata": {
        "id": "nhPshYgB0roY"
      },
      "execution_count": null,
      "outputs": []
    },
    {
      "cell_type": "code",
      "source": [
        "def trim_and_repeat(string, offset=0, repetitions=1):\n",
        "    trimmed_string = string[offset:]  # Обрезаем строку слева на offset символов\n",
        "    repeated_string = trimmed_string * repetitions  # Повторяем строку нужное количество раз\n",
        "    return repeated_string\n",
        "\n",
        "# Пример использования\n",
        "result_default = trim_and_repeat(\"Тестовая строка номер один\")\n",
        "print(result_default)  # Ожидаемый результат: \"Тестовая строка\""
      ],
      "metadata": {
        "colab": {
          "base_uri": "https://localhost:8080/"
        },
        "id": "XRiuJO0T88fd",
        "outputId": "2f2f51a7-5c67-4cf6-c8b4-82980f46eade"
      },
      "execution_count": 10,
      "outputs": [
        {
          "output_type": "stream",
          "name": "stdout",
          "text": [
            "Тестовая строка номер один\n"
          ]
        }
      ]
    },
    {
      "cell_type": "code",
      "source": [],
      "metadata": {
        "id": "uqNfGP658k0x"
      },
      "execution_count": null,
      "outputs": []
    }
  ]
}