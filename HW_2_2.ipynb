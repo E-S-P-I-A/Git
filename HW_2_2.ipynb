{
  "cells": [
    {
      "cell_type": "markdown",
      "metadata": {
        "id": "view-in-github",
        "colab_type": "text"
      },
      "source": [
        "<a href=\"https://colab.research.google.com/github/E-S-P-I-A/Git/blob/main/HW_2_2.ipynb\" target=\"_parent\"><img src=\"https://colab.research.google.com/assets/colab-badge.svg\" alt=\"Open In Colab\"/></a>"
      ]
    },
    {
      "cell_type": "code",
      "execution_count": 3,
      "id": "1d4d9a5f-87ec-4713-a68a-dcb04da60252",
      "metadata": {
        "colab": {
          "base_uri": "https://localhost:8080/"
        },
        "id": "1d4d9a5f-87ec-4713-a68a-dcb04da60252",
        "outputId": "7bf359ea-6ac4-4fd4-c99a-239602fe14a1"
      },
      "outputs": [
        {
          "output_type": "stream",
          "name": "stdout",
          "text": [
            "{98, 35, 15, 213, 54, 119}\n"
          ]
        }
      ],
      "source": [
        "# Исходный словарь\n",
        "ids = {'user1': [213, 213, 213, 15, 213],\n",
        "      'user2': [54, 54, 119, 119, 119],\n",
        "      'user3': [213, 98, 98, 35]}\n",
        "\n",
        "# Множество для хранения уникальных гео-меток\n",
        "unique_geo_tags = set()\n",
        "\n",
        "# Проходимся по каждому значению в словаре и добавляем элементы в множество\n",
        "for user_id in ids.values():\n",
        "    unique_geo_tags.update(user_id)\n",
        "\n",
        "# Выводим результат\n",
        "print(unique_geo_tags)"
      ]
    },
    {
      "cell_type": "code",
      "source": [
        "def calculate_word_distribution(queries):\n",
        "    # Словарь для хранения количества запросов с определенным числом слов\n",
        "    word_counts = {}\n",
        "\n",
        "    total_queries = len(queries)\n",
        "\n",
        "    for query in queries:\n",
        "        # Разбиваем строку-запрос на отдельные слова\n",
        "        words = query.split()\n",
        "\n",
        "        # Определяем количество слов в данном запросе\n",
        "        word_count = len(words)\n",
        "\n",
        "        # Увеличиваем счетчик для данного количества слов\n",
        "        if word_count in word_counts:\n",
        "            word_counts[word_count] += 1\n",
        "        else:\n",
        "            word_counts[word_count] = 1\n",
        "\n",
        "    # Преобразуем абсолютные значения в проценты\n",
        "    result = {}\n",
        "    for key, value in word_counts.items():\n",
        "        percentage = round(value / total_queries * 100, 2)\n",
        "        result[key] = f'{percentage}%'\n",
        "\n",
        "    return result\n",
        "\n",
        "# Пример использования функции\n",
        "queries = [\n",
        "    'смотреть сериалы онлайн',\n",
        "    'новости спорта',\n",
        "    'афиша кино',\n",
        "    'курс доллара',\n",
        "    'сериалы этим летом',\n",
        "    'курс по питону',\n",
        "    'сериалы про спорт',\n",
        "]\n",
        "\n",
        "word_distribution = calculate_word_distribution(queries)\n",
        "\n",
        "# Выводим результаты\n",
        "for key in sorted(word_distribution.keys()):\n",
        "    print(f\"Поисковых запросов, содержащих {key} слов(а): {word_distribution[key]}\")"
      ],
      "metadata": {
        "colab": {
          "base_uri": "https://localhost:8080/"
        },
        "id": "WBxHGM4VxYS0",
        "outputId": "3c481bc1-1dad-4318-ac9c-4cd8c94a4b88"
      },
      "id": "WBxHGM4VxYS0",
      "execution_count": 5,
      "outputs": [
        {
          "output_type": "stream",
          "name": "stdout",
          "text": [
            "Поисковых запросов, содержащих 2 слов(а): 42.86%\n",
            "Поисковых запросов, содержащих 3 слов(а): 57.14%\n"
          ]
        }
      ]
    }
  ],
  "metadata": {
    "kernelspec": {
      "display_name": "Python 3 (ipykernel)",
      "language": "python",
      "name": "python3"
    },
    "language_info": {
      "codemirror_mode": {
        "name": "ipython",
        "version": 3
      },
      "file_extension": ".py",
      "mimetype": "text/x-python",
      "name": "python",
      "nbconvert_exporter": "python",
      "pygments_lexer": "ipython3",
      "version": "3.12.7"
    },
    "colab": {
      "provenance": [],
      "include_colab_link": true
    }
  },
  "nbformat": 4,
  "nbformat_minor": 5
}